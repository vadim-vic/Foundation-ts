{
  "nbformat": 4,
  "nbformat_minor": 0,
  "metadata": {
    "colab": {
      "provenance": [],
      "authorship_tag": "ABX9TyMfX5m/ntULaGIPvu72Q/Db",
      "include_colab_link": true
    },
    "kernelspec": {
      "name": "python3",
      "display_name": "Python 3"
    },
    "language_info": {
      "name": "python"
    }
  },
  "cells": [
    {
      "cell_type": "markdown",
      "metadata": {
        "id": "view-in-github",
        "colab_type": "text"
      },
      "source": [
        "<a href=\"https://colab.research.google.com/github/vadim-vic/Foundation-ts/blob/main/sandbox/Token_Example.ipynb\" target=\"_parent\"><img src=\"https://colab.research.google.com/assets/colab-badge.svg\" alt=\"Open In Colab\"/></a>"
      ]
    },
    {
      "cell_type": "code",
      "execution_count": null,
      "metadata": {
        "id": "Ijbv5e7ISk9p"
      },
      "outputs": [],
      "source": [
        "import torch\n",
        "import torch.nn as nn\n",
        "from transformers import AutoModelForCausalLM, AutoTokenizer\n",
        "\n",
        "# Small base model\n",
        "model_name = \"distilgpt2\"\n",
        "tokenizer = AutoTokenizer.from_pretrained(model_name)\n",
        "model = AutoModelForCausalLM.from_pretrained(model_name)\n",
        "\n",
        "# Add two new special tokens for tools\n",
        "new_tokens = [\"<TOOL_CALC>\", \"<TOOL_WEATHER>\"]\n",
        "tokenizer.add_tokens(new_tokens)\n",
        "model.resize_token_embeddings(len(tokenizer))\n",
        "\n",
        "# Freeze base model parameters\n",
        "for param in model.parameters():\n",
        "    param.requires_grad = False\n",
        "\n",
        "# Allow training only toolken embeddings\n",
        "embedding_layer = model.get_input_embeddings()\n",
        "for token in new_tokens:\n",
        "    token_id = tokenizer.convert_tokens_to_ids(token)\n",
        "    embedding_layer.weight[token_id].requires_grad = True\n"
      ]
    },
    {
      "cell_type": "code",
      "source": [
        "def tool_executor(tool_name, args=None):\n",
        "    if tool_name == \"<TOOL_CALC>\":\n",
        "        # Expect args like {\"a\": 2, \"b\": 2}\n",
        "        return str(args[\"a\"] + args[\"b\"])\n",
        "    elif tool_name == \"<TOOL_WEATHER>\":\n",
        "        # Dummy weather\n",
        "        return f\"The weather in {args['city']} is sunny, 25°C.\"\n",
        "    return \"?\"\n"
      ],
      "metadata": {
        "id": "O92jIbUUStl5"
      },
      "execution_count": null,
      "outputs": []
    },
    {
      "cell_type": "code",
      "source": [
        "train_examples = [\n",
        "    # Calculator tool\n",
        "    (\"What is 2 + 2?\", \"<TOOL_CALC> 4\"),\n",
        "    (\"Please add 3 and 5.\", \"<TOOL_CALC> 8\"),\n",
        "\n",
        "    # Weather tool\n",
        "    (\"What’s the weather in Paris?\", \"<TOOL_WEATHER> The weather in Paris is sunny, 25°C.\"),\n",
        "    (\"Tell me the weather in London.\", \"<TOOL_WEATHER> The weather in London is sunny, 25°C.\"),\n",
        "]\n"
      ],
      "metadata": {
        "id": "43xuZTinS3GR"
      },
      "execution_count": null,
      "outputs": []
    },
    {
      "cell_type": "code",
      "source": [
        "# --- Corrected Step 4: training loop (only toolken rows should update) ---\n",
        "import torch\n",
        "import torch.nn as nn\n",
        "\n",
        "device = torch.device(\"cuda\" if torch.cuda.is_available() else \"cpu\")\n",
        "model.to(device)\n",
        "model.eval()  # we will still train embeddings but keep other layers frozen\n",
        "\n",
        "# Freeze all parameters first\n",
        "for param in model.parameters():\n",
        "    param.requires_grad = False\n",
        "\n",
        "# Make embedding matrix trainable (leaf Parameter)\n",
        "embedding_layer = model.get_input_embeddings()\n",
        "embedding_layer.weight.requires_grad = True\n",
        "\n",
        "# Tool token ids (used to preserve only those rows' grads)\n",
        "tool_token_ids = [tokenizer.convert_tokens_to_ids(t) for t in new_tokens]\n",
        "vocab_size, emb_dim = embedding_layer.weight.shape\n",
        "print(\"Vocab size:\", vocab_size, \"Embedding dim:\", emb_dim)\n",
        "\n",
        "# Optimizer: optimize the whole embedding matrix, but we'll zero non-tool grads later\n",
        "optimizer = torch.optim.Adam([embedding_layer.weight], lr=1e-3)\n",
        "\n",
        "# Training loop\n",
        "num_epochs = 50\n",
        "for epoch in range(num_epochs):\n",
        "    total_loss = 0.0\n",
        "    for prompt, expected in train_examples:\n",
        "        # Tokenize prompt and expected separately so we can mask correctly\n",
        "        prompt_ids = tokenizer(prompt, return_tensors=\"pt\")[\"input_ids\"].to(device)         # (1, Lp)\n",
        "        expected_ids = tokenizer(expected, return_tensors=\"pt\")[\"input_ids\"].to(device)     # (1, Le)\n",
        "\n",
        "        # Concatenate prompt + expected into one sequence\n",
        "        input_ids = torch.cat([prompt_ids, expected_ids], dim=1)  # (1, Lp+Le)\n",
        "        labels = input_ids.clone()                                # we predict the entire tail\n",
        "        prompt_len = prompt_ids.size(1)\n",
        "        # Mask prompt tokens so loss is only on the expected part\n",
        "        labels[:, :prompt_len] = -100\n",
        "\n",
        "        optimizer.zero_grad()\n",
        "        outputs = model(input_ids=input_ids, labels=labels)\n",
        "        loss = outputs.loss\n",
        "        loss.backward()\n",
        "\n",
        "        # --- IMPORTANT: zero gradients for all embedding rows except tool tokens ---\n",
        "        if embedding_layer.weight.grad is not None:\n",
        "            # create boolean mask for rows to zero (True => zero)\n",
        "            mask = torch.ones(vocab_size, dtype=torch.bool, device=embedding_layer.weight.grad.device)\n",
        "            mask[tool_token_ids] = False\n",
        "            # zero out the grads for non-tool tokens\n",
        "            embedding_layer.weight.grad[mask] = 0.0\n",
        "\n",
        "        optimizer.step()\n",
        "        total_loss += loss.item()\n",
        "\n",
        "    if (epoch + 1) % 10 == 0 or epoch == 0:\n",
        "        print(f\"Epoch {epoch+1}/{num_epochs}  loss={total_loss:.4f}\")\n"
      ],
      "metadata": {
        "colab": {
          "base_uri": "https://localhost:8080/"
        },
        "id": "FWmVEtQD0jgC",
        "outputId": "633e621a-cf44-4c8c-84ef-a8b0a226358e"
      },
      "execution_count": null,
      "outputs": [
        {
          "output_type": "stream",
          "name": "stdout",
          "text": [
            "Vocab size: 50259 Embedding dim: 768\n",
            "Epoch 1/50  loss=31.3559\n",
            "Epoch 10/50  loss=14.7615\n",
            "Epoch 20/50  loss=4.7273\n",
            "Epoch 30/50  loss=3.1997\n",
            "Epoch 40/50  loss=2.4941\n",
            "Epoch 50/50  loss=1.9601\n"
          ]
        }
      ]
    },
    {
      "cell_type": "code",
      "source": [
        "def run_with_tools(prompt):\n",
        "    inputs = tokenizer(prompt, return_tensors=\"pt\")\n",
        "    output_ids = model.generate(**inputs, max_length=40)\n",
        "    decoded = tokenizer.decode(output_ids[0])\n",
        "\n",
        "    print(\"Raw model output:\", decoded)\n",
        "\n",
        "    # Intercept tool tokens\n",
        "    if \"<TOOL_CALC>\" in decoded:\n",
        "        # naive arg extraction (demo only)\n",
        "        if \"2 + 2\" in prompt:\n",
        "            args = {\"a\": 2, \"b\": 2}\n",
        "        elif \"3 and 5\" in prompt:\n",
        "            args = {\"a\": 3, \"b\": 5}\n",
        "        else:\n",
        "            args = {\"a\": 0, \"b\": 0}\n",
        "        result = tool_executor(\"<TOOL_CALC>\", args)\n",
        "        return decoded.replace(\"<TOOL_CALC>\", result)\n",
        "\n",
        "    elif \"<TOOL_WEATHER>\" in decoded:\n",
        "        if \"Paris\" in prompt:\n",
        "            args = {\"city\": \"Paris\"}\n",
        "        elif \"London\" in prompt:\n",
        "            args = {\"city\": \"London\"}\n",
        "        else:\n",
        "            args = {\"city\": \"Unknown\"}\n",
        "        result = tool_executor(\"<TOOL_WEATHER>\", args)\n",
        "        return decoded.replace(\"<TOOL_WEATHER>\", result)\n",
        "\n",
        "    return decoded\n",
        "\n",
        "\n",
        "# 🔥 Try it out\n",
        "print(run_with_tools(\"What is 2 + 2?\"))\n",
        "print(run_with_tools(\"Tell me the weather in Paris.\"))\n"
      ],
      "metadata": {
        "colab": {
          "base_uri": "https://localhost:8080/"
        },
        "id": "MPVz_CKolnS0",
        "outputId": "97e73494-f36b-42b5-a188-931d64c4e21c"
      },
      "execution_count": null,
      "outputs": [
        {
          "output_type": "stream",
          "name": "stderr",
          "text": [
            "Setting `pad_token_id` to `eos_token_id`:50256 for open-end generation.\n",
            "Setting `pad_token_id` to `eos_token_id`:50256 for open-end generation.\n"
          ]
        },
        {
          "output_type": "stream",
          "name": "stdout",
          "text": [
            "Raw model output: What is 2 + 2?<TOOL_CALC> 4 + 2?<TOOL_CALC> 5 + 2?<TOOL_CALC> 6 + 2?\n",
            "\n",
            "\n",
            "\n",
            "\n",
            "\n",
            "\n",
            "\n",
            "\n",
            "\n",
            "\n",
            "\n",
            "\n",
            "\n",
            "\n",
            "\n",
            "\n",
            "\n",
            "\n",
            "\n",
            "What is 2 + 2?4 4 + 2?4 5 + 2?4 6 + 2?\n",
            "\n",
            "\n",
            "\n",
            "\n",
            "\n",
            "\n",
            "\n",
            "\n",
            "\n",
            "\n",
            "\n",
            "\n",
            "\n",
            "\n",
            "\n",
            "\n",
            "\n",
            "\n",
            "\n",
            "Raw model output: Tell me the weather in Paris.<TOOL_WEATHER> The weather in Paris is sunny.\n",
            "<TOOL_WEATHER> The weather in Paris is sunny.<TOOL_WEATHER><TOOL_WEATHER><TOOL_WEATHER><TOOL_WEATHER><TOOL_WEATHER><TOOL_WEATHER><TOOL_WEATHER><TOOL_WEATHER><TOOL_WEATHER><TOOL_WEATHER><TOOL_WEATHER><TOOL_WEATHER><TOOL_WEATHER><TOOL_WEATHER><TOOL_WEATHER><TOOL_WEATHER>\n",
            "Tell me the weather in Paris.The weather in Paris is sunny, 25°C. The weather in Paris is sunny.\n",
            "The weather in Paris is sunny, 25°C. The weather in Paris is sunny.The weather in Paris is sunny, 25°C.The weather in Paris is sunny, 25°C.The weather in Paris is sunny, 25°C.The weather in Paris is sunny, 25°C.The weather in Paris is sunny, 25°C.The weather in Paris is sunny, 25°C.The weather in Paris is sunny, 25°C.The weather in Paris is sunny, 25°C.The weather in Paris is sunny, 25°C.The weather in Paris is sunny, 25°C.The weather in Paris is sunny, 25°C.The weather in Paris is sunny, 25°C.The weather in Paris is sunny, 25°C.The weather in Paris is sunny, 25°C.The weather in Paris is sunny, 25°C.The weather in Paris is sunny, 25°C.\n"
          ]
        }
      ]
    }
  ]
}