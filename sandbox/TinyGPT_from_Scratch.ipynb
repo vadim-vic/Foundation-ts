{
  "nbformat": 4,
  "nbformat_minor": 0,
  "metadata": {
    "colab": {
      "provenance": [],
      "authorship_tag": "ABX9TyMeKq1p8/6Y1LzMBr5OZEPZ",
      "include_colab_link": true
    },
    "kernelspec": {
      "name": "python3",
      "display_name": "Python 3"
    },
    "language_info": {
      "name": "python"
    }
  },
  "cells": [
    {
      "cell_type": "markdown",
      "metadata": {
        "id": "view-in-github",
        "colab_type": "text"
      },
      "source": [
        "<a href=\"https://colab.research.google.com/github/vadim-vic/Foundation-ts/blob/main/sandbox/TinyGPT_from_Scratch.ipynb\" target=\"_parent\"><img src=\"https://colab.research.google.com/assets/colab-badge.svg\" alt=\"Open In Colab\"/></a>"
      ]
    },
    {
      "cell_type": "markdown",
      "source": [
        "# TinyGPT from Scratch"
      ],
      "metadata": {
        "id": "YbClJriY8Mgp"
      }
    },
    {
      "cell_type": "markdown",
      "source": [
        "## 1. Setup & toy dataset\n",
        "\n",
        "We’ll start with a tiny character-level dataset."
      ],
      "metadata": {
        "id": "1LReUHlR6r34"
      }
    },
    {
      "cell_type": "code",
      "source": [
        "import torch\n",
        "import torch.nn as nn\n",
        "import torch.nn.functional as F\n",
        "\n",
        "# Toy dataset: small text\n",
        "text = \"hello world\"\n",
        "chars = sorted(set(text))\n",
        "stoi = {ch:i for i,ch in enumerate(chars)}\n",
        "itos = {i:ch for ch,i in stoi.items()}\n",
        "encode = lambda s: [stoi[c] for c in s]\n",
        "decode = lambda l: ''.join([itos[i] for i in l])\n",
        "\n",
        "data = torch.tensor(encode(text), dtype=torch.long)\n",
        "vocab_size = len(chars)\n",
        "print(\"Vocab:\", chars)"
      ],
      "metadata": {
        "colab": {
          "base_uri": "https://localhost:8080/"
        },
        "id": "i4Np3xNo6qpj",
        "outputId": "34a9ddb6-8639-4c86-8b49-88b424aefcde"
      },
      "execution_count": null,
      "outputs": [
        {
          "output_type": "stream",
          "name": "stdout",
          "text": [
            "Vocab: [' ', 'd', 'e', 'h', 'l', 'o', 'r', 'w']\n"
          ]
        }
      ]
    },
    {
      "cell_type": "markdown",
      "source": [
        "## 2. Batch maker\n",
        "\n",
        "We need training samples (input → target)."
      ],
      "metadata": {
        "id": "iiQvUDjn6-16"
      }
    },
    {
      "cell_type": "code",
      "source": [
        "def get_batch(block_size=4, batch_size=8):\n",
        "    ix = torch.randint(len(data)-block_size-1, (batch_size,))\n",
        "    x = torch.stack([data[i:i+block_size] for i in ix])\n",
        "    y = torch.stack([data[i+1:i+block_size+1] for i in ix])\n",
        "    return x, y\n",
        "\n",
        "xb, yb = get_batch()\n",
        "print(xb[0], \"->\", yb[0])"
      ],
      "metadata": {
        "colab": {
          "base_uri": "https://localhost:8080/"
        },
        "id": "-AwbKU7a669D",
        "outputId": "1eabe630-e71d-432e-bdfa-4d6ac74945e8"
      },
      "execution_count": null,
      "outputs": [
        {
          "output_type": "stream",
          "name": "stdout",
          "text": [
            "tensor([4, 5, 0, 7]) -> tensor([5, 0, 7, 5])\n"
          ]
        }
      ]
    },
    {
      "cell_type": "markdown",
      "source": [
        "## 3. Self-Attention Head\n",
        "\n",
        "The heart of GPT: scaled dot-product attention."
      ],
      "metadata": {
        "id": "zyR0KU0V7DOK"
      }
    },
    {
      "cell_type": "code",
      "source": [
        "class Head(nn.Module):\n",
        "    def __init__(self, head_size, n_embd, block_size):\n",
        "        super().__init__()\n",
        "        self.key = nn.Linear(n_embd, head_size, bias=False)\n",
        "        self.query = nn.Linear(n_embd, head_size, bias=False)\n",
        "        self.value = nn.Linear(n_embd, head_size, bias=False)\n",
        "        self.tril = torch.tril(torch.ones(block_size, block_size))\n",
        "        self.dropout = nn.Dropout(0.2)\n",
        "\n",
        "    def forward(self, x):\n",
        "        B, T, C = x.shape\n",
        "        k = self.key(x)     # (B,T,hs)\n",
        "        q = self.query(x)   # (B,T,hs)\n",
        "        wei = q @ k.transpose(-2,-1) * C**-0.5\n",
        "        wei = wei.masked_fill(self.tril[:T,:T]==0, float('-inf'))\n",
        "        wei = F.softmax(wei, dim=-1)\n",
        "        wei = self.dropout(wei)\n",
        "        v = self.value(x)\n",
        "        out = wei @ v\n",
        "        return out\n"
      ],
      "metadata": {
        "id": "kKXHIQ547C9p"
      },
      "execution_count": null,
      "outputs": []
    },
    {
      "cell_type": "markdown",
      "source": [
        "## 4. Transformer Block\n",
        "\n",
        "A GPT block = multi-head attention + MLP + residuals."
      ],
      "metadata": {
        "id": "BjR6Nun37Lsx"
      }
    },
    {
      "cell_type": "code",
      "source": [
        "class Block(nn.Module):\n",
        "    def __init__(self, n_embd, n_head, block_size):\n",
        "        super().__init__()\n",
        "        head_size = n_embd // n_head\n",
        "        self.sa = nn.ModuleList([Head(head_size, n_embd, block_size) for _ in range(n_head)])\n",
        "        self.proj = nn.Linear(n_embd, n_embd)\n",
        "        self.ln1 = nn.LayerNorm(n_embd)\n",
        "        self.mlp = nn.Sequential(\n",
        "            nn.Linear(n_embd, 4*n_embd),\n",
        "            nn.ReLU(),\n",
        "            nn.Linear(4*n_embd, n_embd),\n",
        "        )\n",
        "        self.ln2 = nn.LayerNorm(n_embd)\n",
        "\n",
        "    def forward(self, x):\n",
        "        x = x + self.proj(torch.cat([h(x) for h in self.sa], dim=-1))\n",
        "        x = self.ln1(x)\n",
        "        x = x + self.mlp(x)\n",
        "        x = self.ln2(x)\n",
        "        return x\n"
      ],
      "metadata": {
        "id": "CFLZqeBh7Qc4"
      },
      "execution_count": null,
      "outputs": []
    },
    {
      "cell_type": "markdown",
      "source": [
        "## 5. The GPT Model\n",
        "\n",
        "Tie it all together."
      ],
      "metadata": {
        "id": "q5PpQ-jF7VFJ"
      }
    },
    {
      "cell_type": "code",
      "source": [
        "class TinyGPT(nn.Module):\n",
        "    def __init__(self, vocab_size, n_embd=32, block_size=8, n_head=4, n_layer=2):\n",
        "        super().__init__()\n",
        "        self.token_emb = nn.Embedding(vocab_size, n_embd)\n",
        "        self.pos_emb = nn.Embedding(block_size, n_embd)\n",
        "        self.blocks = nn.Sequential(*[Block(n_embd, n_head, block_size) for _ in range(n_layer)])\n",
        "        self.ln_f = nn.LayerNorm(n_embd)\n",
        "        self.head = nn.Linear(n_embd, vocab_size)\n",
        "\n",
        "        self.block_size = block_size\n",
        "\n",
        "    def forward(self, idx, targets=None):\n",
        "        B, T = idx.shape\n",
        "        tok = self.token_emb(idx)\n",
        "        pos = self.pos_emb(torch.arange(T, device=idx.device))\n",
        "        x = tok + pos\n",
        "        x = self.blocks(x)\n",
        "        x = self.ln_f(x)\n",
        "        logits = self.head(x)\n",
        "\n",
        "        if targets is None:\n",
        "            loss = None\n",
        "        else:\n",
        "            loss = F.cross_entropy(logits.view(-1, vocab_size), targets.view(-1))\n",
        "        return logits, loss\n",
        "\n",
        "    def generate(self, idx, max_new_tokens):\n",
        "        for _ in range(max_new_tokens):\n",
        "            idx_cond = idx[:, -self.block_size:]\n",
        "            logits, _ = self(idx_cond)\n",
        "            probs = F.softmax(logits[:, -1, :], dim=-1)\n",
        "            next_id = torch.multinomial(probs, num_samples=1)\n",
        "            idx = torch.cat([idx, next_id], dim=1)\n",
        "        return idx\n"
      ],
      "metadata": {
        "id": "U48aCIdb7WVH"
      },
      "execution_count": null,
      "outputs": []
    },
    {
      "cell_type": "markdown",
      "source": [
        "## 6. Training\n",
        "\n",
        "Just a quick run to see it learn.*italicised text*"
      ],
      "metadata": {
        "id": "sz1d0RDB7a9U"
      }
    },
    {
      "cell_type": "code",
      "source": [
        "model = TinyGPT(vocab_size)\n",
        "optimizer = torch.optim.AdamW(model.parameters(), lr=1e-3)\n",
        "\n",
        "for step in range(200):  # try 2000+ for better results\n",
        "    xb, yb = get_batch()\n",
        "    logits, loss = model(xb, yb)\n",
        "    optimizer.zero_grad()\n",
        "    loss.backward()\n",
        "    optimizer.step()\n",
        "    if step % 50 == 0:\n",
        "        print(step, loss.item())\n"
      ],
      "metadata": {
        "colab": {
          "base_uri": "https://localhost:8080/"
        },
        "id": "wvPDHGNo7d14",
        "outputId": "7b9039e4-edf7-4629-b2cc-da2fa959a597"
      },
      "execution_count": null,
      "outputs": [
        {
          "output_type": "stream",
          "name": "stdout",
          "text": [
            "0 2.1965808868408203\n",
            "50 0.2806495130062103\n",
            "100 0.12873832881450653\n",
            "150 0.08644482493400574\n"
          ]
        }
      ]
    },
    {
      "cell_type": "markdown",
      "source": [
        "## 7. Generate Text\n",
        "\n",
        "Let’s see if it can speak."
      ],
      "metadata": {
        "id": "C5UDsnjY7j8H"
      }
    },
    {
      "cell_type": "code",
      "source": [
        "context = torch.zeros((1,1), dtype=torch.long)  # start token = \"h\"\n",
        "print(decode(model.generate(context, max_new_tokens=50)[0].tolist()))\n"
      ],
      "metadata": {
        "colab": {
          "base_uri": "https://localhost:8080/"
        },
        "id": "J6sW3zMj7gji",
        "outputId": "88462ff2-22dd-4626-c9da-16e2ea59bea6"
      },
      "execution_count": null,
      "outputs": [
        {
          "output_type": "stream",
          "name": "stdout",
          "text": [
            " worllo wo wo worlrlorldrlo wo worlrlo wo wrlrlrlor\n"
          ]
        }
      ]
    }
  ]
}